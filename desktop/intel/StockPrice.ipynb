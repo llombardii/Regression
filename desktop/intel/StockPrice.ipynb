{
 "cells": [
  {
   "cell_type": "code",
   "execution_count": 1,
   "id": "7f16336a",
   "metadata": {},
   "outputs": [],
   "source": [
    "import pandas as pd\n",
    "from sklearn.model_selection import train_test_split\n",
    "from sklearn.metrics import mean_absolute_error,mean_squared_error,r2_score\n",
    "from sklearn.linear_model import LinearRegression\n",
    "from sklearn.svm import SVR\n",
    "from sklearn.ensemble import RandomForestRegressor\n",
    "\n"
   ]
  },
  {
   "cell_type": "code",
   "execution_count": 2,
   "id": "a1f535f4",
   "metadata": {},
   "outputs": [
    {
     "data": {
      "text/html": [
       "<div>\n",
       "<style scoped>\n",
       "    .dataframe tbody tr th:only-of-type {\n",
       "        vertical-align: middle;\n",
       "    }\n",
       "\n",
       "    .dataframe tbody tr th {\n",
       "        vertical-align: top;\n",
       "    }\n",
       "\n",
       "    .dataframe thead th {\n",
       "        text-align: right;\n",
       "    }\n",
       "</style>\n",
       "<table border=\"1\" class=\"dataframe\">\n",
       "  <thead>\n",
       "    <tr style=\"text-align: right;\">\n",
       "      <th></th>\n",
       "      <th>Index</th>\n",
       "      <th>Date</th>\n",
       "      <th>Open</th>\n",
       "      <th>High</th>\n",
       "      <th>Low</th>\n",
       "      <th>Close</th>\n",
       "      <th>Adj Close</th>\n",
       "      <th>Volume</th>\n",
       "    </tr>\n",
       "  </thead>\n",
       "  <tbody>\n",
       "    <tr>\n",
       "      <th>0</th>\n",
       "      <td>NYA</td>\n",
       "      <td>1965-12-31</td>\n",
       "      <td>528.690002</td>\n",
       "      <td>528.690002</td>\n",
       "      <td>528.690002</td>\n",
       "      <td>528.690002</td>\n",
       "      <td>528.690002</td>\n",
       "      <td>0.0</td>\n",
       "    </tr>\n",
       "    <tr>\n",
       "      <th>1</th>\n",
       "      <td>NYA</td>\n",
       "      <td>1966-01-03</td>\n",
       "      <td>527.210022</td>\n",
       "      <td>527.210022</td>\n",
       "      <td>527.210022</td>\n",
       "      <td>527.210022</td>\n",
       "      <td>527.210022</td>\n",
       "      <td>0.0</td>\n",
       "    </tr>\n",
       "    <tr>\n",
       "      <th>2</th>\n",
       "      <td>NYA</td>\n",
       "      <td>1966-01-04</td>\n",
       "      <td>527.840027</td>\n",
       "      <td>527.840027</td>\n",
       "      <td>527.840027</td>\n",
       "      <td>527.840027</td>\n",
       "      <td>527.840027</td>\n",
       "      <td>0.0</td>\n",
       "    </tr>\n",
       "    <tr>\n",
       "      <th>3</th>\n",
       "      <td>NYA</td>\n",
       "      <td>1966-01-05</td>\n",
       "      <td>531.119995</td>\n",
       "      <td>531.119995</td>\n",
       "      <td>531.119995</td>\n",
       "      <td>531.119995</td>\n",
       "      <td>531.119995</td>\n",
       "      <td>0.0</td>\n",
       "    </tr>\n",
       "    <tr>\n",
       "      <th>4</th>\n",
       "      <td>NYA</td>\n",
       "      <td>1966-01-06</td>\n",
       "      <td>532.070007</td>\n",
       "      <td>532.070007</td>\n",
       "      <td>532.070007</td>\n",
       "      <td>532.070007</td>\n",
       "      <td>532.070007</td>\n",
       "      <td>0.0</td>\n",
       "    </tr>\n",
       "    <tr>\n",
       "      <th>...</th>\n",
       "      <td>...</td>\n",
       "      <td>...</td>\n",
       "      <td>...</td>\n",
       "      <td>...</td>\n",
       "      <td>...</td>\n",
       "      <td>...</td>\n",
       "      <td>...</td>\n",
       "      <td>...</td>\n",
       "    </tr>\n",
       "    <tr>\n",
       "      <th>112452</th>\n",
       "      <td>N100</td>\n",
       "      <td>2021-05-27</td>\n",
       "      <td>1241.119995</td>\n",
       "      <td>1251.910034</td>\n",
       "      <td>1241.119995</td>\n",
       "      <td>1247.069946</td>\n",
       "      <td>1247.069946</td>\n",
       "      <td>379696400.0</td>\n",
       "    </tr>\n",
       "    <tr>\n",
       "      <th>112453</th>\n",
       "      <td>N100</td>\n",
       "      <td>2021-05-28</td>\n",
       "      <td>1249.469971</td>\n",
       "      <td>1259.209961</td>\n",
       "      <td>1249.030029</td>\n",
       "      <td>1256.599976</td>\n",
       "      <td>1256.599976</td>\n",
       "      <td>160773400.0</td>\n",
       "    </tr>\n",
       "    <tr>\n",
       "      <th>112454</th>\n",
       "      <td>N100</td>\n",
       "      <td>2021-05-31</td>\n",
       "      <td>1256.079956</td>\n",
       "      <td>1258.880005</td>\n",
       "      <td>1248.140015</td>\n",
       "      <td>1248.930054</td>\n",
       "      <td>1248.930054</td>\n",
       "      <td>91173700.0</td>\n",
       "    </tr>\n",
       "    <tr>\n",
       "      <th>112455</th>\n",
       "      <td>N100</td>\n",
       "      <td>2021-06-01</td>\n",
       "      <td>1254.609985</td>\n",
       "      <td>1265.660034</td>\n",
       "      <td>1254.609985</td>\n",
       "      <td>1258.579956</td>\n",
       "      <td>1258.579956</td>\n",
       "      <td>155179900.0</td>\n",
       "    </tr>\n",
       "    <tr>\n",
       "      <th>112456</th>\n",
       "      <td>N100</td>\n",
       "      <td>2021-06-02</td>\n",
       "      <td>1258.489990</td>\n",
       "      <td>1263.709961</td>\n",
       "      <td>1258.239990</td>\n",
       "      <td>1263.619995</td>\n",
       "      <td>1263.619995</td>\n",
       "      <td>148465000.0</td>\n",
       "    </tr>\n",
       "  </tbody>\n",
       "</table>\n",
       "<p>112457 rows × 8 columns</p>\n",
       "</div>"
      ],
      "text/plain": [
       "       Index        Date         Open         High          Low        Close  \\\n",
       "0        NYA  1965-12-31   528.690002   528.690002   528.690002   528.690002   \n",
       "1        NYA  1966-01-03   527.210022   527.210022   527.210022   527.210022   \n",
       "2        NYA  1966-01-04   527.840027   527.840027   527.840027   527.840027   \n",
       "3        NYA  1966-01-05   531.119995   531.119995   531.119995   531.119995   \n",
       "4        NYA  1966-01-06   532.070007   532.070007   532.070007   532.070007   \n",
       "...      ...         ...          ...          ...          ...          ...   \n",
       "112452  N100  2021-05-27  1241.119995  1251.910034  1241.119995  1247.069946   \n",
       "112453  N100  2021-05-28  1249.469971  1259.209961  1249.030029  1256.599976   \n",
       "112454  N100  2021-05-31  1256.079956  1258.880005  1248.140015  1248.930054   \n",
       "112455  N100  2021-06-01  1254.609985  1265.660034  1254.609985  1258.579956   \n",
       "112456  N100  2021-06-02  1258.489990  1263.709961  1258.239990  1263.619995   \n",
       "\n",
       "          Adj Close       Volume  \n",
       "0        528.690002          0.0  \n",
       "1        527.210022          0.0  \n",
       "2        527.840027          0.0  \n",
       "3        531.119995          0.0  \n",
       "4        532.070007          0.0  \n",
       "...             ...          ...  \n",
       "112452  1247.069946  379696400.0  \n",
       "112453  1256.599976  160773400.0  \n",
       "112454  1248.930054   91173700.0  \n",
       "112455  1258.579956  155179900.0  \n",
       "112456  1263.619995  148465000.0  \n",
       "\n",
       "[112457 rows x 8 columns]"
      ]
     },
     "execution_count": 2,
     "metadata": {},
     "output_type": "execute_result"
    }
   ],
   "source": [
    "data=pd.read_csv(\"StockData.csv\")\n",
    "df=pd.DataFrame(data)\n",
    "df\n"
   ]
  },
  {
   "cell_type": "code",
   "execution_count": 3,
   "id": "ab91aaab",
   "metadata": {
    "scrolled": true
   },
   "outputs": [
    {
     "data": {
      "text/html": [
       "<div>\n",
       "<style scoped>\n",
       "    .dataframe tbody tr th:only-of-type {\n",
       "        vertical-align: middle;\n",
       "    }\n",
       "\n",
       "    .dataframe tbody tr th {\n",
       "        vertical-align: top;\n",
       "    }\n",
       "\n",
       "    .dataframe thead th {\n",
       "        text-align: right;\n",
       "    }\n",
       "</style>\n",
       "<table border=\"1\" class=\"dataframe\">\n",
       "  <thead>\n",
       "    <tr style=\"text-align: right;\">\n",
       "      <th></th>\n",
       "      <th>Index</th>\n",
       "      <th>Date</th>\n",
       "      <th>Open</th>\n",
       "      <th>High</th>\n",
       "      <th>Low</th>\n",
       "      <th>Close</th>\n",
       "      <th>Adj Close</th>\n",
       "      <th>Volume</th>\n",
       "    </tr>\n",
       "  </thead>\n",
       "  <tbody>\n",
       "    <tr>\n",
       "      <th>11077</th>\n",
       "      <td>NYA</td>\n",
       "      <td>2010-01-04</td>\n",
       "      <td>7184.979980</td>\n",
       "      <td>7331.120117</td>\n",
       "      <td>7184.979980</td>\n",
       "      <td>7326.740234</td>\n",
       "      <td>7326.740234</td>\n",
       "      <td>3.991400e+09</td>\n",
       "    </tr>\n",
       "    <tr>\n",
       "      <th>11078</th>\n",
       "      <td>NYA</td>\n",
       "      <td>2010-01-05</td>\n",
       "      <td>7326.740234</td>\n",
       "      <td>7359.459961</td>\n",
       "      <td>7313.600098</td>\n",
       "      <td>7354.870117</td>\n",
       "      <td>7354.870117</td>\n",
       "      <td>2.491020e+09</td>\n",
       "    </tr>\n",
       "    <tr>\n",
       "      <th>11079</th>\n",
       "      <td>NYA</td>\n",
       "      <td>2010-01-06</td>\n",
       "      <td>7354.850098</td>\n",
       "      <td>7389.279785</td>\n",
       "      <td>7342.490234</td>\n",
       "      <td>7377.700195</td>\n",
       "      <td>7377.700195</td>\n",
       "      <td>4.972660e+09</td>\n",
       "    </tr>\n",
       "    <tr>\n",
       "      <th>11080</th>\n",
       "      <td>NYA</td>\n",
       "      <td>2010-01-07</td>\n",
       "      <td>7377.700195</td>\n",
       "      <td>7398.209961</td>\n",
       "      <td>7325.509766</td>\n",
       "      <td>7393.930176</td>\n",
       "      <td>7393.930176</td>\n",
       "      <td>5.270680e+09</td>\n",
       "    </tr>\n",
       "    <tr>\n",
       "      <th>11081</th>\n",
       "      <td>NYA</td>\n",
       "      <td>2010-01-08</td>\n",
       "      <td>7393.930176</td>\n",
       "      <td>7426.410156</td>\n",
       "      <td>7367.810059</td>\n",
       "      <td>7425.350098</td>\n",
       "      <td>7425.350098</td>\n",
       "      <td>4.389590e+09</td>\n",
       "    </tr>\n",
       "    <tr>\n",
       "      <th>...</th>\n",
       "      <td>...</td>\n",
       "      <td>...</td>\n",
       "      <td>...</td>\n",
       "      <td>...</td>\n",
       "      <td>...</td>\n",
       "      <td>...</td>\n",
       "      <td>...</td>\n",
       "      <td>...</td>\n",
       "    </tr>\n",
       "    <tr>\n",
       "      <th>13943</th>\n",
       "      <td>NYA</td>\n",
       "      <td>2021-05-24</td>\n",
       "      <td>16375.000000</td>\n",
       "      <td>16508.519530</td>\n",
       "      <td>16375.000000</td>\n",
       "      <td>16464.689450</td>\n",
       "      <td>16464.689450</td>\n",
       "      <td>2.947400e+09</td>\n",
       "    </tr>\n",
       "    <tr>\n",
       "      <th>13944</th>\n",
       "      <td>NYA</td>\n",
       "      <td>2021-05-25</td>\n",
       "      <td>16464.689450</td>\n",
       "      <td>16525.810550</td>\n",
       "      <td>16375.150390</td>\n",
       "      <td>16390.189450</td>\n",
       "      <td>16390.189450</td>\n",
       "      <td>3.420870e+09</td>\n",
       "    </tr>\n",
       "    <tr>\n",
       "      <th>13945</th>\n",
       "      <td>NYA</td>\n",
       "      <td>2021-05-26</td>\n",
       "      <td>16390.189450</td>\n",
       "      <td>16466.339840</td>\n",
       "      <td>16388.320310</td>\n",
       "      <td>16451.960940</td>\n",
       "      <td>16451.960940</td>\n",
       "      <td>3.674490e+09</td>\n",
       "    </tr>\n",
       "    <tr>\n",
       "      <th>13946</th>\n",
       "      <td>NYA</td>\n",
       "      <td>2021-05-27</td>\n",
       "      <td>16451.960940</td>\n",
       "      <td>16546.359380</td>\n",
       "      <td>16451.960940</td>\n",
       "      <td>16531.949220</td>\n",
       "      <td>16531.949220</td>\n",
       "      <td>5.201110e+09</td>\n",
       "    </tr>\n",
       "    <tr>\n",
       "      <th>13947</th>\n",
       "      <td>NYA</td>\n",
       "      <td>2021-05-28</td>\n",
       "      <td>16531.949220</td>\n",
       "      <td>16588.689450</td>\n",
       "      <td>16531.949220</td>\n",
       "      <td>16555.660160</td>\n",
       "      <td>16555.660160</td>\n",
       "      <td>4.199270e+09</td>\n",
       "    </tr>\n",
       "  </tbody>\n",
       "</table>\n",
       "<p>2871 rows × 8 columns</p>\n",
       "</div>"
      ],
      "text/plain": [
       "      Index        Date          Open          High           Low  \\\n",
       "11077   NYA  2010-01-04   7184.979980   7331.120117   7184.979980   \n",
       "11078   NYA  2010-01-05   7326.740234   7359.459961   7313.600098   \n",
       "11079   NYA  2010-01-06   7354.850098   7389.279785   7342.490234   \n",
       "11080   NYA  2010-01-07   7377.700195   7398.209961   7325.509766   \n",
       "11081   NYA  2010-01-08   7393.930176   7426.410156   7367.810059   \n",
       "...     ...         ...           ...           ...           ...   \n",
       "13943   NYA  2021-05-24  16375.000000  16508.519530  16375.000000   \n",
       "13944   NYA  2021-05-25  16464.689450  16525.810550  16375.150390   \n",
       "13945   NYA  2021-05-26  16390.189450  16466.339840  16388.320310   \n",
       "13946   NYA  2021-05-27  16451.960940  16546.359380  16451.960940   \n",
       "13947   NYA  2021-05-28  16531.949220  16588.689450  16531.949220   \n",
       "\n",
       "              Close     Adj Close        Volume  \n",
       "11077   7326.740234   7326.740234  3.991400e+09  \n",
       "11078   7354.870117   7354.870117  2.491020e+09  \n",
       "11079   7377.700195   7377.700195  4.972660e+09  \n",
       "11080   7393.930176   7393.930176  5.270680e+09  \n",
       "11081   7425.350098   7425.350098  4.389590e+09  \n",
       "...             ...           ...           ...  \n",
       "13943  16464.689450  16464.689450  2.947400e+09  \n",
       "13944  16390.189450  16390.189450  3.420870e+09  \n",
       "13945  16451.960940  16451.960940  3.674490e+09  \n",
       "13946  16531.949220  16531.949220  5.201110e+09  \n",
       "13947  16555.660160  16555.660160  4.199270e+09  \n",
       "\n",
       "[2871 rows x 8 columns]"
      ]
     },
     "execution_count": 3,
     "metadata": {},
     "output_type": "execute_result"
    }
   ],
   "source": [
    "data_NYA=df[(df[\"Index\"]==\"NYA\") & (df['Date'] >= '2010-01-04')] #Selecting only the data of NYA, starting from the given date.\n",
    "data_NYA"
   ]
  },
  {
   "cell_type": "code",
   "execution_count": 7,
   "id": "9fd187a6",
   "metadata": {
    "scrolled": true
   },
   "outputs": [
    {
     "data": {
      "text/html": [
       "<div>\n",
       "<style scoped>\n",
       "    .dataframe tbody tr th:only-of-type {\n",
       "        vertical-align: middle;\n",
       "    }\n",
       "\n",
       "    .dataframe tbody tr th {\n",
       "        vertical-align: top;\n",
       "    }\n",
       "\n",
       "    .dataframe thead th {\n",
       "        text-align: right;\n",
       "    }\n",
       "</style>\n",
       "<table border=\"1\" class=\"dataframe\">\n",
       "  <thead>\n",
       "    <tr style=\"text-align: right;\">\n",
       "      <th></th>\n",
       "      <th>Open</th>\n",
       "      <th>High</th>\n",
       "      <th>Low</th>\n",
       "      <th>Volume</th>\n",
       "    </tr>\n",
       "  </thead>\n",
       "  <tbody>\n",
       "    <tr>\n",
       "      <th>11077</th>\n",
       "      <td>7184.979980</td>\n",
       "      <td>7331.120117</td>\n",
       "      <td>7184.979980</td>\n",
       "      <td>3.991400e+09</td>\n",
       "    </tr>\n",
       "    <tr>\n",
       "      <th>11078</th>\n",
       "      <td>7326.740234</td>\n",
       "      <td>7359.459961</td>\n",
       "      <td>7313.600098</td>\n",
       "      <td>2.491020e+09</td>\n",
       "    </tr>\n",
       "    <tr>\n",
       "      <th>11079</th>\n",
       "      <td>7354.850098</td>\n",
       "      <td>7389.279785</td>\n",
       "      <td>7342.490234</td>\n",
       "      <td>4.972660e+09</td>\n",
       "    </tr>\n",
       "    <tr>\n",
       "      <th>11080</th>\n",
       "      <td>7377.700195</td>\n",
       "      <td>7398.209961</td>\n",
       "      <td>7325.509766</td>\n",
       "      <td>5.270680e+09</td>\n",
       "    </tr>\n",
       "    <tr>\n",
       "      <th>11081</th>\n",
       "      <td>7393.930176</td>\n",
       "      <td>7426.410156</td>\n",
       "      <td>7367.810059</td>\n",
       "      <td>4.389590e+09</td>\n",
       "    </tr>\n",
       "  </tbody>\n",
       "</table>\n",
       "</div>"
      ],
      "text/plain": [
       "              Open         High          Low        Volume\n",
       "11077  7184.979980  7331.120117  7184.979980  3.991400e+09\n",
       "11078  7326.740234  7359.459961  7313.600098  2.491020e+09\n",
       "11079  7354.850098  7389.279785  7342.490234  4.972660e+09\n",
       "11080  7377.700195  7398.209961  7325.509766  5.270680e+09\n",
       "11081  7393.930176  7426.410156  7367.810059  4.389590e+09"
      ]
     },
     "execution_count": 7,
     "metadata": {},
     "output_type": "execute_result"
    }
   ],
   "source": [
    "X = data_NYA[['Open', 'High', 'Low', 'Volume']] #Asssigning selected and relevent columns as independent variables\n",
    "X.head()"
   ]
  },
  {
   "cell_type": "code",
   "execution_count": 8,
   "id": "f0ae491b",
   "metadata": {},
   "outputs": [
    {
     "data": {
      "text/plain": [
       "Open      0\n",
       "High      0\n",
       "Low       0\n",
       "Volume    0\n",
       "dtype: int64"
      ]
     },
     "execution_count": 8,
     "metadata": {},
     "output_type": "execute_result"
    }
   ],
   "source": [
    "X.isna().sum()"
   ]
  },
  {
   "cell_type": "code",
   "execution_count": 9,
   "id": "64c77d9f",
   "metadata": {},
   "outputs": [
    {
     "data": {
      "text/plain": [
       "11077     7354.870117\n",
       "11078     7377.700195\n",
       "11079     7393.930176\n",
       "11080     7425.350098\n",
       "11081     7449.049805\n",
       "             ...     \n",
       "13943    16390.189450\n",
       "13944    16451.960940\n",
       "13945    16531.949220\n",
       "13946    16555.660160\n",
       "13947             NaN\n",
       "Name: Close, Length: 2871, dtype: float64"
      ]
     },
     "execution_count": 9,
     "metadata": {},
     "output_type": "execute_result"
    }
   ],
   "source": [
    "Y=data_NYA['Close'].shift(-1) #Shift the 'Close' values up by one day to represent the next day's closing price\n",
    "Y"
   ]
  },
  {
   "cell_type": "code",
   "execution_count": 10,
   "id": "9ce38fda",
   "metadata": {},
   "outputs": [
    {
     "data": {
      "text/html": [
       "<div>\n",
       "<style scoped>\n",
       "    .dataframe tbody tr th:only-of-type {\n",
       "        vertical-align: middle;\n",
       "    }\n",
       "\n",
       "    .dataframe tbody tr th {\n",
       "        vertical-align: top;\n",
       "    }\n",
       "\n",
       "    .dataframe thead th {\n",
       "        text-align: right;\n",
       "    }\n",
       "</style>\n",
       "<table border=\"1\" class=\"dataframe\">\n",
       "  <thead>\n",
       "    <tr style=\"text-align: right;\">\n",
       "      <th></th>\n",
       "      <th>Open</th>\n",
       "      <th>High</th>\n",
       "      <th>Low</th>\n",
       "      <th>Volume</th>\n",
       "    </tr>\n",
       "  </thead>\n",
       "  <tbody>\n",
       "    <tr>\n",
       "      <th>11077</th>\n",
       "      <td>7184.979980</td>\n",
       "      <td>7331.120117</td>\n",
       "      <td>7184.979980</td>\n",
       "      <td>3.991400e+09</td>\n",
       "    </tr>\n",
       "    <tr>\n",
       "      <th>11078</th>\n",
       "      <td>7326.740234</td>\n",
       "      <td>7359.459961</td>\n",
       "      <td>7313.600098</td>\n",
       "      <td>2.491020e+09</td>\n",
       "    </tr>\n",
       "    <tr>\n",
       "      <th>11079</th>\n",
       "      <td>7354.850098</td>\n",
       "      <td>7389.279785</td>\n",
       "      <td>7342.490234</td>\n",
       "      <td>4.972660e+09</td>\n",
       "    </tr>\n",
       "    <tr>\n",
       "      <th>11080</th>\n",
       "      <td>7377.700195</td>\n",
       "      <td>7398.209961</td>\n",
       "      <td>7325.509766</td>\n",
       "      <td>5.270680e+09</td>\n",
       "    </tr>\n",
       "    <tr>\n",
       "      <th>11081</th>\n",
       "      <td>7393.930176</td>\n",
       "      <td>7426.410156</td>\n",
       "      <td>7367.810059</td>\n",
       "      <td>4.389590e+09</td>\n",
       "    </tr>\n",
       "    <tr>\n",
       "      <th>...</th>\n",
       "      <td>...</td>\n",
       "      <td>...</td>\n",
       "      <td>...</td>\n",
       "      <td>...</td>\n",
       "    </tr>\n",
       "    <tr>\n",
       "      <th>13942</th>\n",
       "      <td>16350.450200</td>\n",
       "      <td>16475.000000</td>\n",
       "      <td>16344.759770</td>\n",
       "      <td>3.344620e+09</td>\n",
       "    </tr>\n",
       "    <tr>\n",
       "      <th>13943</th>\n",
       "      <td>16375.000000</td>\n",
       "      <td>16508.519530</td>\n",
       "      <td>16375.000000</td>\n",
       "      <td>2.947400e+09</td>\n",
       "    </tr>\n",
       "    <tr>\n",
       "      <th>13944</th>\n",
       "      <td>16464.689450</td>\n",
       "      <td>16525.810550</td>\n",
       "      <td>16375.150390</td>\n",
       "      <td>3.420870e+09</td>\n",
       "    </tr>\n",
       "    <tr>\n",
       "      <th>13945</th>\n",
       "      <td>16390.189450</td>\n",
       "      <td>16466.339840</td>\n",
       "      <td>16388.320310</td>\n",
       "      <td>3.674490e+09</td>\n",
       "    </tr>\n",
       "    <tr>\n",
       "      <th>13946</th>\n",
       "      <td>16451.960940</td>\n",
       "      <td>16546.359380</td>\n",
       "      <td>16451.960940</td>\n",
       "      <td>5.201110e+09</td>\n",
       "    </tr>\n",
       "  </tbody>\n",
       "</table>\n",
       "<p>2870 rows × 4 columns</p>\n",
       "</div>"
      ],
      "text/plain": [
       "               Open          High           Low        Volume\n",
       "11077   7184.979980   7331.120117   7184.979980  3.991400e+09\n",
       "11078   7326.740234   7359.459961   7313.600098  2.491020e+09\n",
       "11079   7354.850098   7389.279785   7342.490234  4.972660e+09\n",
       "11080   7377.700195   7398.209961   7325.509766  5.270680e+09\n",
       "11081   7393.930176   7426.410156   7367.810059  4.389590e+09\n",
       "...             ...           ...           ...           ...\n",
       "13942  16350.450200  16475.000000  16344.759770  3.344620e+09\n",
       "13943  16375.000000  16508.519530  16375.000000  2.947400e+09\n",
       "13944  16464.689450  16525.810550  16375.150390  3.420870e+09\n",
       "13945  16390.189450  16466.339840  16388.320310  3.674490e+09\n",
       "13946  16451.960940  16546.359380  16451.960940  5.201110e+09\n",
       "\n",
       "[2870 rows x 4 columns]"
      ]
     },
     "execution_count": 10,
     "metadata": {},
     "output_type": "execute_result"
    }
   ],
   "source": [
    "X = X[:-1] #Dropping a row of X to match with Y\n",
    "Y = Y.dropna()\n",
    "X"
   ]
  },
  {
   "cell_type": "code",
   "execution_count": 11,
   "id": "a17c4807",
   "metadata": {},
   "outputs": [
    {
     "data": {
      "text/plain": [
       "11077    7354.870117\n",
       "11078    7377.700195\n",
       "11079    7393.930176\n",
       "11080    7425.350098\n",
       "11081    7449.049805\n",
       "Name: Close, dtype: float64"
      ]
     },
     "execution_count": 11,
     "metadata": {},
     "output_type": "execute_result"
    }
   ],
   "source": [
    "Y.head()"
   ]
  },
  {
   "cell_type": "code",
   "execution_count": 12,
   "id": "20049d8f",
   "metadata": {},
   "outputs": [
    {
     "data": {
      "text/plain": [
       "0"
      ]
     },
     "execution_count": 12,
     "metadata": {},
     "output_type": "execute_result"
    }
   ],
   "source": [
    "Y.isna().sum()"
   ]
  },
  {
   "cell_type": "code",
   "execution_count": 13,
   "id": "48128350",
   "metadata": {},
   "outputs": [],
   "source": [
    "X_train,X_test,Y_train,Y_test=train_test_split(X,Y,random_state=42) #Test split not mentioned because value is 0.25"
   ]
  },
  {
   "cell_type": "code",
   "execution_count": 14,
   "id": "7b8b4b0f",
   "metadata": {},
   "outputs": [
    {
     "data": {
      "text/html": [
       "<div>\n",
       "<style scoped>\n",
       "    .dataframe tbody tr th:only-of-type {\n",
       "        vertical-align: middle;\n",
       "    }\n",
       "\n",
       "    .dataframe tbody tr th {\n",
       "        vertical-align: top;\n",
       "    }\n",
       "\n",
       "    .dataframe thead th {\n",
       "        text-align: right;\n",
       "    }\n",
       "</style>\n",
       "<table border=\"1\" class=\"dataframe\">\n",
       "  <thead>\n",
       "    <tr style=\"text-align: right;\">\n",
       "      <th></th>\n",
       "      <th>Open</th>\n",
       "      <th>High</th>\n",
       "      <th>Low</th>\n",
       "      <th>Volume</th>\n",
       "    </tr>\n",
       "  </thead>\n",
       "  <tbody>\n",
       "    <tr>\n",
       "      <th>13723</th>\n",
       "      <td>12089.240230</td>\n",
       "      <td>12103.160160</td>\n",
       "      <td>11831.040040</td>\n",
       "      <td>4.829020e+09</td>\n",
       "    </tr>\n",
       "    <tr>\n",
       "      <th>12990</th>\n",
       "      <td>11906.629880</td>\n",
       "      <td>11930.129880</td>\n",
       "      <td>11896.360350</td>\n",
       "      <td>3.308060e+09</td>\n",
       "    </tr>\n",
       "    <tr>\n",
       "      <th>11515</th>\n",
       "      <td>7043.120117</td>\n",
       "      <td>7094.359863</td>\n",
       "      <td>6873.709961</td>\n",
       "      <td>4.787920e+09</td>\n",
       "    </tr>\n",
       "    <tr>\n",
       "      <th>12733</th>\n",
       "      <td>10729.110350</td>\n",
       "      <td>10730.879880</td>\n",
       "      <td>10619.389650</td>\n",
       "      <td>3.848750e+09</td>\n",
       "    </tr>\n",
       "    <tr>\n",
       "      <th>12488</th>\n",
       "      <td>10725.879880</td>\n",
       "      <td>10789.660160</td>\n",
       "      <td>10628.940430</td>\n",
       "      <td>4.269130e+09</td>\n",
       "    </tr>\n",
       "  </tbody>\n",
       "</table>\n",
       "</div>"
      ],
      "text/plain": [
       "               Open          High           Low        Volume\n",
       "13723  12089.240230  12103.160160  11831.040040  4.829020e+09\n",
       "12990  11906.629880  11930.129880  11896.360350  3.308060e+09\n",
       "11515   7043.120117   7094.359863   6873.709961  4.787920e+09\n",
       "12733  10729.110350  10730.879880  10619.389650  3.848750e+09\n",
       "12488  10725.879880  10789.660160  10628.940430  4.269130e+09"
      ]
     },
     "execution_count": 14,
     "metadata": {},
     "output_type": "execute_result"
    }
   ],
   "source": [
    "X_train.head()"
   ]
  },
  {
   "cell_type": "markdown",
   "id": "23de362a",
   "metadata": {},
   "source": [
    "## Using linear regression"
   ]
  },
  {
   "cell_type": "code",
   "execution_count": 12,
   "id": "2aef3a5b",
   "metadata": {},
   "outputs": [],
   "source": [
    "model1=LinearRegression() #Declaring model"
   ]
  },
  {
   "cell_type": "code",
   "execution_count": 13,
   "id": "4db0216e",
   "metadata": {},
   "outputs": [
    {
     "data": {
      "text/html": [
       "<style>#sk-container-id-1 {color: black;}#sk-container-id-1 pre{padding: 0;}#sk-container-id-1 div.sk-toggleable {background-color: white;}#sk-container-id-1 label.sk-toggleable__label {cursor: pointer;display: block;width: 100%;margin-bottom: 0;padding: 0.3em;box-sizing: border-box;text-align: center;}#sk-container-id-1 label.sk-toggleable__label-arrow:before {content: \"▸\";float: left;margin-right: 0.25em;color: #696969;}#sk-container-id-1 label.sk-toggleable__label-arrow:hover:before {color: black;}#sk-container-id-1 div.sk-estimator:hover label.sk-toggleable__label-arrow:before {color: black;}#sk-container-id-1 div.sk-toggleable__content {max-height: 0;max-width: 0;overflow: hidden;text-align: left;background-color: #f0f8ff;}#sk-container-id-1 div.sk-toggleable__content pre {margin: 0.2em;color: black;border-radius: 0.25em;background-color: #f0f8ff;}#sk-container-id-1 input.sk-toggleable__control:checked~div.sk-toggleable__content {max-height: 200px;max-width: 100%;overflow: auto;}#sk-container-id-1 input.sk-toggleable__control:checked~label.sk-toggleable__label-arrow:before {content: \"▾\";}#sk-container-id-1 div.sk-estimator input.sk-toggleable__control:checked~label.sk-toggleable__label {background-color: #d4ebff;}#sk-container-id-1 div.sk-label input.sk-toggleable__control:checked~label.sk-toggleable__label {background-color: #d4ebff;}#sk-container-id-1 input.sk-hidden--visually {border: 0;clip: rect(1px 1px 1px 1px);clip: rect(1px, 1px, 1px, 1px);height: 1px;margin: -1px;overflow: hidden;padding: 0;position: absolute;width: 1px;}#sk-container-id-1 div.sk-estimator {font-family: monospace;background-color: #f0f8ff;border: 1px dotted black;border-radius: 0.25em;box-sizing: border-box;margin-bottom: 0.5em;}#sk-container-id-1 div.sk-estimator:hover {background-color: #d4ebff;}#sk-container-id-1 div.sk-parallel-item::after {content: \"\";width: 100%;border-bottom: 1px solid gray;flex-grow: 1;}#sk-container-id-1 div.sk-label:hover label.sk-toggleable__label {background-color: #d4ebff;}#sk-container-id-1 div.sk-serial::before {content: \"\";position: absolute;border-left: 1px solid gray;box-sizing: border-box;top: 0;bottom: 0;left: 50%;z-index: 0;}#sk-container-id-1 div.sk-serial {display: flex;flex-direction: column;align-items: center;background-color: white;padding-right: 0.2em;padding-left: 0.2em;position: relative;}#sk-container-id-1 div.sk-item {position: relative;z-index: 1;}#sk-container-id-1 div.sk-parallel {display: flex;align-items: stretch;justify-content: center;background-color: white;position: relative;}#sk-container-id-1 div.sk-item::before, #sk-container-id-1 div.sk-parallel-item::before {content: \"\";position: absolute;border-left: 1px solid gray;box-sizing: border-box;top: 0;bottom: 0;left: 50%;z-index: -1;}#sk-container-id-1 div.sk-parallel-item {display: flex;flex-direction: column;z-index: 1;position: relative;background-color: white;}#sk-container-id-1 div.sk-parallel-item:first-child::after {align-self: flex-end;width: 50%;}#sk-container-id-1 div.sk-parallel-item:last-child::after {align-self: flex-start;width: 50%;}#sk-container-id-1 div.sk-parallel-item:only-child::after {width: 0;}#sk-container-id-1 div.sk-dashed-wrapped {border: 1px dashed gray;margin: 0 0.4em 0.5em 0.4em;box-sizing: border-box;padding-bottom: 0.4em;background-color: white;}#sk-container-id-1 div.sk-label label {font-family: monospace;font-weight: bold;display: inline-block;line-height: 1.2em;}#sk-container-id-1 div.sk-label-container {text-align: center;}#sk-container-id-1 div.sk-container {/* jupyter's `normalize.less` sets `[hidden] { display: none; }` but bootstrap.min.css set `[hidden] { display: none !important; }` so we also need the `!important` here to be able to override the default hidden behavior on the sphinx rendered scikit-learn.org. See: https://github.com/scikit-learn/scikit-learn/issues/21755 */display: inline-block !important;position: relative;}#sk-container-id-1 div.sk-text-repr-fallback {display: none;}</style><div id=\"sk-container-id-1\" class=\"sk-top-container\"><div class=\"sk-text-repr-fallback\"><pre>LinearRegression()</pre><b>In a Jupyter environment, please rerun this cell to show the HTML representation or trust the notebook. <br />On GitHub, the HTML representation is unable to render, please try loading this page with nbviewer.org.</b></div><div class=\"sk-container\" hidden><div class=\"sk-item\"><div class=\"sk-estimator sk-toggleable\"><input class=\"sk-toggleable__control sk-hidden--visually\" id=\"sk-estimator-id-1\" type=\"checkbox\" checked><label for=\"sk-estimator-id-1\" class=\"sk-toggleable__label sk-toggleable__label-arrow\">LinearRegression</label><div class=\"sk-toggleable__content\"><pre>LinearRegression()</pre></div></div></div></div></div>"
      ],
      "text/plain": [
       "LinearRegression()"
      ]
     },
     "execution_count": 13,
     "metadata": {},
     "output_type": "execute_result"
    }
   ],
   "source": [
    "model1.fit(X_train,Y_train) # Fitting the train datasets into the model"
   ]
  },
  {
   "cell_type": "code",
   "execution_count": 13,
   "id": "be2ed084",
   "metadata": {},
   "outputs": [
    {
     "data": {
      "text/plain": [
       "array([ 6801.41696867, 13210.15147848,  8701.46008929,  7764.8386823 ,\n",
       "       12909.59520579, 10854.55890682, 14417.31787848, 10721.63849647,\n",
       "        8891.47770894, 12464.98114655, 10998.02165412, 10966.46328965,\n",
       "       10474.13471875,  7869.97332489, 12364.0554345 ,  8383.90633657,\n",
       "       10889.7298246 ,  7879.88275963, 10559.80391321, 10959.56768502,\n",
       "        7560.90595881, 13028.04983987, 10303.80152753, 12951.32914081,\n",
       "       11061.37192682,  7878.49924677, 13598.52552867,  9209.76689719,\n",
       "       13816.48226546,  7577.86452303, 10914.02182554, 11519.15849814,\n",
       "       12390.54973221,  8020.32635958, 16453.64519432, 10283.98808131,\n",
       "        6653.53063618, 11324.87110256, 12677.47711222, 11221.33488665,\n",
       "        9743.06319319, 12255.34728516, 12926.93321073, 12149.62278895,\n",
       "       11426.22331973, 13102.71911449, 12948.78561947, 11123.94552596,\n",
       "       10612.26519155, 12753.0861271 ,  8985.34204906, 13443.17119049,\n",
       "        9903.56320175, 10597.74830884,  8434.75244014, 13099.99976277,\n",
       "        7000.03183038, 10445.22313966, 10768.23520852, 10412.52499642,\n",
       "       11045.28238923, 10627.16587193,  7070.65083143,  8590.14147609,\n",
       "        8268.17354712, 10586.20070758, 10405.52314653,  8403.86443631,\n",
       "       10528.61369011, 10840.03996141, 10107.90872097, 13083.33120173,\n",
       "        7586.64280659, 10490.61145367, 10461.63483436,  8002.12156802,\n",
       "       13099.68433188, 14135.35819499,  8060.5652774 ,  7771.87628898,\n",
       "       10808.30789394,  8629.5846472 , 10073.60057488, 11679.92787638,\n",
       "        7010.69455797,  9353.61241653,  9459.51556178, 13013.30856213,\n",
       "       10904.16387541, 12632.78218576, 11834.85114849, 10813.38037813,\n",
       "       10817.57864591, 12584.7128001 ,  7058.5496241 , 10715.96513199,\n",
       "        7665.86122704, 10485.50178988, 13872.14781061, 11468.06458972,\n",
       "       13140.37370374,  8222.33694896, 11962.12119723, 11113.63971294,\n",
       "        9641.9861754 ,  9606.30024258, 13021.29031511,  8293.98521115,\n",
       "       10946.50987371,  9411.62501166,  7494.53321882, 12442.88835779,\n",
       "       10869.80894161, 13970.42062447, 13190.32815997, 13990.8049325 ,\n",
       "       13823.18926694, 12698.38920752, 11757.80101445,  7664.87446869,\n",
       "        7678.21491782, 14924.81255682, 11549.63401105, 14401.82368498,\n",
       "        7454.52861784, 12204.27988471, 10185.72599602,  8987.75399527,\n",
       "        8224.50005021,  8262.84092248,  7058.13582014,  8273.70384791,\n",
       "       11256.54976249, 10789.89331608, 12574.12359195, 12859.12042712,\n",
       "       10549.68971686, 16387.12499057,  9631.87481248, 10328.3065292 ,\n",
       "       11041.84838631,  9417.09443947, 14422.93055186,  9032.66416618,\n",
       "       10730.39893911, 14906.23900251, 12351.90524931,  7672.52315788,\n",
       "       11063.94671443, 10778.93737904,  7590.39894892, 10647.68198225,\n",
       "       10271.76343218, 13125.0646927 ,  7351.32697714, 12570.56873769,\n",
       "        7560.88141583, 11577.01189328, 11154.01584115,  7597.08695901,\n",
       "        9694.33649361,  7488.56102473,  9094.24651874, 12315.78859933,\n",
       "       10516.25813333, 10589.89903   , 10316.35222257, 10663.60882027,\n",
       "        7802.87824064, 10263.3479814 ,  9907.43002815, 12281.95117483,\n",
       "       12382.27118288, 12525.27316768, 11750.03605333,  8246.5211749 ,\n",
       "        7176.96934431,  7520.99522742, 12712.05535523,  9398.11135775,\n",
       "       10398.22727392,  9616.25033718, 11448.55197703,  7301.19625741,\n",
       "        8246.45014328,  8401.02317416, 11075.34655728, 10868.73292252,\n",
       "       15260.54486665, 12694.94053548, 11138.94597334, 11040.01169874,\n",
       "       10315.90713501, 10642.98828037,  7049.29340162, 11003.82733326,\n",
       "        7174.1423056 , 10053.97242778,  9888.58848844, 10491.58700317,\n",
       "       15674.32229948, 13027.4207223 , 12221.83553405, 13369.14123845,\n",
       "        9507.76888765, 10704.04229559,  7458.68224557, 10665.74937886,\n",
       "        8199.65846037, 15341.85562505, 10239.1134437 ,  8478.08107214,\n",
       "       12526.70019699, 11452.17518998, 12972.93970828, 10355.10990533,\n",
       "        8784.48182838, 13196.16808782, 12808.80080287,  8073.19984401,\n",
       "       12884.44856345,  7155.60908816, 10186.45205549,  8317.02503462,\n",
       "        8003.80166176, 11133.42545435,  8352.06201082,  7230.36085028,\n",
       "        7434.52659163, 10887.42440129,  7735.37309579, 10344.75798087,\n",
       "        7620.61528383, 12589.36844473,  7516.06681609,  7460.71347598,\n",
       "       12632.1155045 , 10564.65422827, 10269.08531069, 10909.17746337,\n",
       "       16193.74094903, 13102.32736712,  6730.00570329,  7016.61766511,\n",
       "        7338.14578365,  7477.96706851,  9985.33693264, 10529.05189442,\n",
       "       12909.44523478, 13245.07692761,  9075.64420767, 10429.22971364,\n",
       "        8144.23578902, 10367.96821014, 10138.02805   ,  6420.86215776,\n",
       "       10800.53550624, 12406.88812737, 12388.64603795, 14281.95370623,\n",
       "       10770.38565917, 13332.85423376, 10460.33610328, 12419.8182266 ,\n",
       "       10460.72452886, 10261.58666845, 10973.08137899,  7560.9513215 ,\n",
       "       12743.46681663,  8232.63150275, 11065.29376269,  8938.67573541,\n",
       "        7735.19461556,  8492.10617185,  7556.7767163 ,  7470.92016424,\n",
       "       12657.51214343, 12550.35715663, 10616.09106127, 10061.74529589,\n",
       "        8366.1263618 , 10823.00542124, 15269.93917327,  8652.60356407,\n",
       "       10616.61873341, 13106.56100895, 11334.26970567, 11121.6184099 ,\n",
       "        8132.14869498, 10703.10409801, 11157.85772208, 10443.41313857,\n",
       "       12913.44496013,  9025.27296597, 10931.4291841 ,  7002.19851029,\n",
       "       11702.31040846,  9335.08414842, 12812.97519328, 12938.96568623,\n",
       "       12939.59486707, 10382.76477516,  7347.72096527,  6987.07797587,\n",
       "        7546.23806862,  7312.58918757,  7227.43229539,  8103.77132941,\n",
       "        8175.75833646,  8385.44924369,  9332.66325482, 10329.13658609,\n",
       "       12843.4424549 , 12524.0036593 , 10939.33802459, 10766.61759272,\n",
       "       12979.94015245,  7101.93732055, 12674.07987568,  8356.01759407,\n",
       "        7359.91358785, 11040.1041747 , 14020.96659287, 10443.98290319,\n",
       "        6759.16663162,  8195.2774697 , 12491.70498208, 12358.25568263,\n",
       "       10004.93099298,  7324.91338586, 10828.45292791, 12812.99679464,\n",
       "       10515.27150826,  8710.32333876, 13381.36989796,  7514.54740999,\n",
       "       11200.94985383, 10585.79393028, 11073.88901515,  7074.02120283,\n",
       "       11798.80850831,  8307.19248569, 10215.0101249 , 10642.61227429,\n",
       "       10351.46416662, 12475.48699452,  8791.03629264,  8485.43417277,\n",
       "        6961.3575734 ,  9539.58666442,  8275.88151277,  8102.50341353,\n",
       "        6893.19970135, 10638.74456041, 10771.56747282, 12740.66794867,\n",
       "       10912.08535218,  8817.53623035,  6968.38816475, 12816.95812213,\n",
       "       13380.96110814,  7935.0362142 , 11490.79514128, 12710.33143786,\n",
       "       10557.18206301, 14058.48668936, 12416.55395203,  8010.27629809,\n",
       "        8045.58792437, 16485.00159359,  9670.89871454,  6961.37113268,\n",
       "       11338.59492235, 13119.12308616, 12919.47863946,  8370.41229987,\n",
       "       10945.40433233,  8356.55432801, 10606.5333349 ,  9780.11611922,\n",
       "        6738.12912159,  9678.43798517, 12666.79293723,  8405.31387666,\n",
       "        8042.78106522, 13809.89386581, 11157.14862983,  8028.88806481,\n",
       "        9950.01778892, 10917.72529988, 11002.71355398, 11633.88211543,\n",
       "        8345.744517  , 10053.32577445, 12574.69253649,  9795.1604259 ,\n",
       "       10432.15325212,  7587.68390841, 13394.54100346, 11937.76350785,\n",
       "        7995.39673016, 11137.50840838,  7050.34112653,  7248.42848947,\n",
       "       11241.45947992, 10033.09023742, 12350.55267569,  9783.26962553,\n",
       "        7457.83321359,  6649.52906313, 10323.99755678, 15727.20239622,\n",
       "       12157.49451813, 10139.8923928 ,  8638.97250381, 11806.10677587,\n",
       "       11593.13242333, 13130.09050528,  7227.70074461, 10959.41591464,\n",
       "        6960.79507107, 12941.00137063,  9079.16464643, 10765.16175864,\n",
       "        7163.63520077,  7563.39454203, 11732.71785408, 14943.61190668,\n",
       "        8367.77481521,  7925.87188086, 12410.07092328, 10497.89203598,\n",
       "        8497.09975267,  7780.4570777 , 10639.93295181, 10998.14141745,\n",
       "        8422.35415228,  6702.80873036, 10642.66141882, 12465.58597759,\n",
       "        8188.71089828, 13014.25214826, 12678.48037549,  8036.39695242,\n",
       "       13850.18238968, 13149.94845424, 11616.91418047, 10971.70865195,\n",
       "        6854.11732497, 12760.61901706,  9326.56491557, 10838.10690574,\n",
       "       12485.90042672, 10362.94468883,  9625.37649688, 12791.81387344,\n",
       "        8842.16517818, 12723.17026023, 12597.58734974,  7567.59337911,\n",
       "        7704.0766629 , 11039.34994068,  7973.58574689,  6910.37430764,\n",
       "        7438.32743137, 10261.98500014,  9458.61820354, 11868.63734829,\n",
       "       10758.27173132, 12134.38809313, 15423.20104799,  9621.34962819,\n",
       "        7462.46526037, 13081.39962838, 10349.83398309, 10510.85444133,\n",
       "        7578.48560992, 12703.58482992, 10445.78617183, 10734.62352927,\n",
       "       10800.22496955, 14068.89983194,  7578.28253661, 10740.84080951,\n",
       "       10622.08755651,  7760.53418531, 13103.47686348, 12515.23718521,\n",
       "       10516.91402594,  7112.11506627, 11095.3578412 ,  8420.01658415,\n",
       "        7867.13631183, 12911.87011613, 15638.22779147, 13033.97148398,\n",
       "        8097.02510079, 12727.82959133, 10668.1251035 ,  7629.9845664 ,\n",
       "       12915.59423235, 10966.01306897,  9417.92272289, 10040.131738  ,\n",
       "       10508.49470561, 12698.72347316,  8464.18675438, 10173.58723083,\n",
       "       10500.49190689, 10277.91805799, 14176.67049421, 10945.61010217,\n",
       "        8784.93703487, 10063.89014641, 11258.01838552, 12847.83625211,\n",
       "       10825.22488074,  9476.34451603, 15655.22549523, 12956.72888975,\n",
       "       14819.26840201,  8141.18554685, 12837.99066407,  8115.5868526 ,\n",
       "       11023.01983382, 12408.2043119 ,  8379.2177532 ,  8914.70424255,\n",
       "       12662.46129896,  8964.11615874, 11083.72905532, 10570.51978575,\n",
       "       11730.50380701, 12445.26049129,  7541.89992272,  7372.67000867,\n",
       "       13037.57748657, 10716.59806594,  8387.08476785, 16449.26539314,\n",
       "        8155.57875883, 11133.6773958 , 11884.51701322, 10634.76773041,\n",
       "        9937.91452977, 12906.56844792, 12496.48623938, 10836.95455344,\n",
       "       15311.07636142, 14317.23670001, 13154.87764768,  8171.80436966,\n",
       "       11666.71981993, 10271.24737981, 11897.11070979, 12777.78604644,\n",
       "       10957.92790914,  7940.14702508, 14342.74674101, 16533.04264774,\n",
       "        9049.7452691 , 15860.87052462, 10831.47473327,  6755.19107965,\n",
       "       12109.95014125,  7818.61859496,  9126.95177628,  6754.45536149,\n",
       "       11752.10640193,  6718.87945882, 11976.27824767,  8060.45925256,\n",
       "       11523.90000958, 10217.30841851, 12376.13621445, 11615.68450926,\n",
       "        8030.29376399,  7337.87735779, 12632.66466685,  9630.87584508,\n",
       "       10812.1628184 , 12407.76744118, 11140.96210529, 13552.69018229,\n",
       "       12590.4251935 ,  7625.75660192,  9678.04920446,  6969.99520969,\n",
       "       10955.18197463, 10644.91533489, 12356.60579856,  7885.06787291,\n",
       "       13431.58012613, 13032.40499101, 11676.34514067,  6854.44693947,\n",
       "        8500.18974607, 13292.99967691, 11202.93739854, 10122.75428757,\n",
       "       12543.31873382,  8155.42379489,  8932.21968406, 10924.14336525,\n",
       "       11981.76757706, 12046.55370511,  7263.17762326, 12614.61790226,\n",
       "       10493.69828607, 11789.84733055, 12370.47015138, 12016.70468119,\n",
       "        7115.70692746, 15219.17413881, 12918.92030422, 15080.51826239,\n",
       "       11479.41379356,  9165.64035255, 12392.04146307, 10003.11447934,\n",
       "       10621.80483104, 11668.21685465, 10861.8918023 , 13042.45143487,\n",
       "       10653.19154266,  7902.73953768, 11814.88930257, 12060.98225745,\n",
       "       11778.52879741,  8426.81474978,  9350.44460953, 10355.46003984,\n",
       "       12948.03088884, 10273.07064246, 13898.72967522,  9032.76814881,\n",
       "       10090.52969452, 12314.84968381,  6833.88135978,  7587.36463098,\n",
       "       11053.28601795, 12912.78296673,  9676.24296544, 12737.85621718,\n",
       "       14545.42231157, 13119.36584846,  7931.13776834, 10466.57255834,\n",
       "        8129.40069846, 10990.47523899, 11247.19905134,  8406.23832538,\n",
       "        7511.02603568, 13766.10770465, 12663.94983373, 14344.32047292,\n",
       "       12081.25596865, 11164.60331498,  7435.19924603,  9299.16505373,\n",
       "       12600.14037188,  8286.30458005,  7417.68281811, 10260.87969308,\n",
       "       10679.00829524, 12894.88661387, 10422.39932311, 10096.30610157,\n",
       "       11095.96873504, 12552.15209694,  7337.82064405,  7723.1699562 ,\n",
       "        8235.77891503,  8914.66230382,  9267.08817195, 10173.1711882 ,\n",
       "       13109.82743404,  9891.39232041,  7788.56948631, 10982.94610554,\n",
       "       10665.07154766, 10064.97613798,  9251.53451081,  9613.42183144,\n",
       "       13808.56864747,  8106.78642759, 11577.06982944,  8296.4414461 ,\n",
       "       16612.96277282, 10564.79231995, 12768.77516549, 11167.01030881,\n",
       "       12804.85456599,  9162.73437802,  7663.40089058, 10877.69860358,\n",
       "       13055.014007  , 11203.98009042,  6842.74013483,  7578.16647606,\n",
       "        7671.19579861, 10828.98256027,  7898.33504777,  7799.96808441,\n",
       "       11089.60348086,  9485.56146498, 11089.53392624,  9504.47443993,\n",
       "       10742.9217532 , 11084.01822152, 10188.52961184,  7897.63981551,\n",
       "       12464.36270104, 10808.20497067, 12534.73502581,  7430.86301174,\n",
       "       12918.91102221, 10156.80802352])"
      ]
     },
     "execution_count": 13,
     "metadata": {},
     "output_type": "execute_result"
    }
   ],
   "source": [
    "prediction=model1.predict(X_test)\n",
    "prediction"
   ]
  },
  {
   "cell_type": "code",
   "execution_count": 14,
   "id": "fda78dd2",
   "metadata": {},
   "outputs": [],
   "source": [
    "mae=mean_absolute_error(Y_test, prediction)\n",
    "mse = mean_squared_error(Y_test, prediction)\n",
    "r2=r2_score(Y_test,prediction)"
   ]
  },
  {
   "cell_type": "code",
   "execution_count": 38,
   "id": "9979d7d0",
   "metadata": {},
   "outputs": [
    {
     "name": "stdout",
     "output_type": "stream",
     "text": [
      "The mean absolute error of the model is 78.84083244011913\n",
      "The mean squared error of the model is 15765.034028898419\n",
      "The R squared of the model is 0.996770470971794\n"
     ]
    }
   ],
   "source": [
    "print(f\"The mean absolute error of the model is {mae}\")\n",
    "print(f\"The mean squared error of the model is {mse}\")\n",
    "print(f\"The R squared of the model is {r2}\")\n"
   ]
  },
  {
   "cell_type": "code",
   "execution_count": null,
   "id": "97a29575",
   "metadata": {},
   "outputs": [],
   "source": []
  },
  {
   "cell_type": "markdown",
   "id": "43950291",
   "metadata": {},
   "source": [
    "## Using Support Vector Machine\n"
   ]
  },
  {
   "cell_type": "code",
   "execution_count": 25,
   "id": "7cb93d09",
   "metadata": {},
   "outputs": [],
   "source": [
    "model2=SVR(kernel=\"rbf\")"
   ]
  },
  {
   "cell_type": "code",
   "execution_count": 26,
   "id": "8d7b31d4",
   "metadata": {},
   "outputs": [
    {
     "data": {
      "text/html": [
       "<style>#sk-container-id-4 {color: black;}#sk-container-id-4 pre{padding: 0;}#sk-container-id-4 div.sk-toggleable {background-color: white;}#sk-container-id-4 label.sk-toggleable__label {cursor: pointer;display: block;width: 100%;margin-bottom: 0;padding: 0.3em;box-sizing: border-box;text-align: center;}#sk-container-id-4 label.sk-toggleable__label-arrow:before {content: \"▸\";float: left;margin-right: 0.25em;color: #696969;}#sk-container-id-4 label.sk-toggleable__label-arrow:hover:before {color: black;}#sk-container-id-4 div.sk-estimator:hover label.sk-toggleable__label-arrow:before {color: black;}#sk-container-id-4 div.sk-toggleable__content {max-height: 0;max-width: 0;overflow: hidden;text-align: left;background-color: #f0f8ff;}#sk-container-id-4 div.sk-toggleable__content pre {margin: 0.2em;color: black;border-radius: 0.25em;background-color: #f0f8ff;}#sk-container-id-4 input.sk-toggleable__control:checked~div.sk-toggleable__content {max-height: 200px;max-width: 100%;overflow: auto;}#sk-container-id-4 input.sk-toggleable__control:checked~label.sk-toggleable__label-arrow:before {content: \"▾\";}#sk-container-id-4 div.sk-estimator input.sk-toggleable__control:checked~label.sk-toggleable__label {background-color: #d4ebff;}#sk-container-id-4 div.sk-label input.sk-toggleable__control:checked~label.sk-toggleable__label {background-color: #d4ebff;}#sk-container-id-4 input.sk-hidden--visually {border: 0;clip: rect(1px 1px 1px 1px);clip: rect(1px, 1px, 1px, 1px);height: 1px;margin: -1px;overflow: hidden;padding: 0;position: absolute;width: 1px;}#sk-container-id-4 div.sk-estimator {font-family: monospace;background-color: #f0f8ff;border: 1px dotted black;border-radius: 0.25em;box-sizing: border-box;margin-bottom: 0.5em;}#sk-container-id-4 div.sk-estimator:hover {background-color: #d4ebff;}#sk-container-id-4 div.sk-parallel-item::after {content: \"\";width: 100%;border-bottom: 1px solid gray;flex-grow: 1;}#sk-container-id-4 div.sk-label:hover label.sk-toggleable__label {background-color: #d4ebff;}#sk-container-id-4 div.sk-serial::before {content: \"\";position: absolute;border-left: 1px solid gray;box-sizing: border-box;top: 0;bottom: 0;left: 50%;z-index: 0;}#sk-container-id-4 div.sk-serial {display: flex;flex-direction: column;align-items: center;background-color: white;padding-right: 0.2em;padding-left: 0.2em;position: relative;}#sk-container-id-4 div.sk-item {position: relative;z-index: 1;}#sk-container-id-4 div.sk-parallel {display: flex;align-items: stretch;justify-content: center;background-color: white;position: relative;}#sk-container-id-4 div.sk-item::before, #sk-container-id-4 div.sk-parallel-item::before {content: \"\";position: absolute;border-left: 1px solid gray;box-sizing: border-box;top: 0;bottom: 0;left: 50%;z-index: -1;}#sk-container-id-4 div.sk-parallel-item {display: flex;flex-direction: column;z-index: 1;position: relative;background-color: white;}#sk-container-id-4 div.sk-parallel-item:first-child::after {align-self: flex-end;width: 50%;}#sk-container-id-4 div.sk-parallel-item:last-child::after {align-self: flex-start;width: 50%;}#sk-container-id-4 div.sk-parallel-item:only-child::after {width: 0;}#sk-container-id-4 div.sk-dashed-wrapped {border: 1px dashed gray;margin: 0 0.4em 0.5em 0.4em;box-sizing: border-box;padding-bottom: 0.4em;background-color: white;}#sk-container-id-4 div.sk-label label {font-family: monospace;font-weight: bold;display: inline-block;line-height: 1.2em;}#sk-container-id-4 div.sk-label-container {text-align: center;}#sk-container-id-4 div.sk-container {/* jupyter's `normalize.less` sets `[hidden] { display: none; }` but bootstrap.min.css set `[hidden] { display: none !important; }` so we also need the `!important` here to be able to override the default hidden behavior on the sphinx rendered scikit-learn.org. See: https://github.com/scikit-learn/scikit-learn/issues/21755 */display: inline-block !important;position: relative;}#sk-container-id-4 div.sk-text-repr-fallback {display: none;}</style><div id=\"sk-container-id-4\" class=\"sk-top-container\"><div class=\"sk-text-repr-fallback\"><pre>SVR()</pre><b>In a Jupyter environment, please rerun this cell to show the HTML representation or trust the notebook. <br />On GitHub, the HTML representation is unable to render, please try loading this page with nbviewer.org.</b></div><div class=\"sk-container\" hidden><div class=\"sk-item\"><div class=\"sk-estimator sk-toggleable\"><input class=\"sk-toggleable__control sk-hidden--visually\" id=\"sk-estimator-id-4\" type=\"checkbox\" checked><label for=\"sk-estimator-id-4\" class=\"sk-toggleable__label sk-toggleable__label-arrow\">SVR</label><div class=\"sk-toggleable__content\"><pre>SVR()</pre></div></div></div></div></div>"
      ],
      "text/plain": [
       "SVR()"
      ]
     },
     "execution_count": 26,
     "metadata": {},
     "output_type": "execute_result"
    }
   ],
   "source": [
    "model2.fit(X_train,Y_train)"
   ]
  },
  {
   "cell_type": "code",
   "execution_count": 27,
   "id": "448c6aaf",
   "metadata": {},
   "outputs": [],
   "source": [
    "prediction=model2.predict(X_test)"
   ]
  },
  {
   "cell_type": "code",
   "execution_count": 28,
   "id": "313a58f3",
   "metadata": {},
   "outputs": [],
   "source": [
    "mae=mean_absolute_error(Y_test, prediction)\n",
    "mse = mean_squared_error(Y_test, prediction)\n",
    "r2=r2_score(Y_test,prediction)"
   ]
  },
  {
   "cell_type": "code",
   "execution_count": 29,
   "id": "742aa763",
   "metadata": {},
   "outputs": [
    {
     "name": "stdout",
     "output_type": "stream",
     "text": [
      "The mean absolute error of the model is 1797.728694303074\n",
      "The mean squared error of the model is 4914870.356943365\n",
      "The R squared of the model is -0.006830461546831534\n"
     ]
    }
   ],
   "source": [
    "print(f\"The mean absolute error of the model is {mae}\")\n",
    "print(f\"The mean squared error of the model is {mse}\")\n",
    "print(f\"The R squared of the model is {r2}\")"
   ]
  },
  {
   "cell_type": "code",
   "execution_count": 24,
   "id": "fe09bcdd",
   "metadata": {},
   "outputs": [
    {
     "data": {
      "text/html": [
       "<div>\n",
       "<style scoped>\n",
       "    .dataframe tbody tr th:only-of-type {\n",
       "        vertical-align: middle;\n",
       "    }\n",
       "\n",
       "    .dataframe tbody tr th {\n",
       "        vertical-align: top;\n",
       "    }\n",
       "\n",
       "    .dataframe thead th {\n",
       "        text-align: right;\n",
       "    }\n",
       "</style>\n",
       "<table border=\"1\" class=\"dataframe\">\n",
       "  <thead>\n",
       "    <tr style=\"text-align: right;\">\n",
       "      <th></th>\n",
       "      <th>Open</th>\n",
       "      <th>High</th>\n",
       "      <th>Low</th>\n",
       "      <th>Volume</th>\n",
       "    </tr>\n",
       "  </thead>\n",
       "  <tbody>\n",
       "    <tr>\n",
       "      <th>11520</th>\n",
       "      <td>6722.979980</td>\n",
       "      <td>6856.879883</td>\n",
       "      <td>6674.290039</td>\n",
       "      <td>2.510620e+09</td>\n",
       "    </tr>\n",
       "    <tr>\n",
       "      <th>13471</th>\n",
       "      <td>13137.959960</td>\n",
       "      <td>13221.059570</td>\n",
       "      <td>13137.959960</td>\n",
       "      <td>3.154240e+09</td>\n",
       "    </tr>\n",
       "    <tr>\n",
       "      <th>11838</th>\n",
       "      <td>8714.700195</td>\n",
       "      <td>8716.120117</td>\n",
       "      <td>8684.769531</td>\n",
       "      <td>3.340650e+09</td>\n",
       "    </tr>\n",
       "    <tr>\n",
       "      <th>11728</th>\n",
       "      <td>7791.490234</td>\n",
       "      <td>7823.919922</td>\n",
       "      <td>7710.830078</td>\n",
       "      <td>4.193740e+09</td>\n",
       "    </tr>\n",
       "    <tr>\n",
       "      <th>13751</th>\n",
       "      <td>12967.940430</td>\n",
       "      <td>12975.540040</td>\n",
       "      <td>12877.190430</td>\n",
       "      <td>3.881310e+09</td>\n",
       "    </tr>\n",
       "    <tr>\n",
       "      <th>...</th>\n",
       "      <td>...</td>\n",
       "      <td>...</td>\n",
       "      <td>...</td>\n",
       "      <td>...</td>\n",
       "    </tr>\n",
       "    <tr>\n",
       "      <th>12458</th>\n",
       "      <td>10859.110350</td>\n",
       "      <td>10873.660160</td>\n",
       "      <td>10768.620120</td>\n",
       "      <td>4.078540e+09</td>\n",
       "    </tr>\n",
       "    <tr>\n",
       "      <th>13736</th>\n",
       "      <td>12515.839840</td>\n",
       "      <td>12563.450200</td>\n",
       "      <td>12482.269530</td>\n",
       "      <td>4.027890e+09</td>\n",
       "    </tr>\n",
       "    <tr>\n",
       "      <th>11559</th>\n",
       "      <td>7149.709961</td>\n",
       "      <td>7485.549805</td>\n",
       "      <td>7149.709961</td>\n",
       "      <td>5.801910e+09</td>\n",
       "    </tr>\n",
       "    <tr>\n",
       "      <th>13749</th>\n",
       "      <td>12864.740230</td>\n",
       "      <td>12932.889650</td>\n",
       "      <td>12856.690430</td>\n",
       "      <td>3.193400e+09</td>\n",
       "    </tr>\n",
       "    <tr>\n",
       "      <th>12067</th>\n",
       "      <td>10141.769530</td>\n",
       "      <td>10159.849610</td>\n",
       "      <td>10132.500000</td>\n",
       "      <td>3.129500e+09</td>\n",
       "    </tr>\n",
       "  </tbody>\n",
       "</table>\n",
       "<p>718 rows × 4 columns</p>\n",
       "</div>"
      ],
      "text/plain": [
       "               Open          High           Low        Volume\n",
       "11520   6722.979980   6856.879883   6674.290039  2.510620e+09\n",
       "13471  13137.959960  13221.059570  13137.959960  3.154240e+09\n",
       "11838   8714.700195   8716.120117   8684.769531  3.340650e+09\n",
       "11728   7791.490234   7823.919922   7710.830078  4.193740e+09\n",
       "13751  12967.940430  12975.540040  12877.190430  3.881310e+09\n",
       "...             ...           ...           ...           ...\n",
       "12458  10859.110350  10873.660160  10768.620120  4.078540e+09\n",
       "13736  12515.839840  12563.450200  12482.269530  4.027890e+09\n",
       "11559   7149.709961   7485.549805   7149.709961  5.801910e+09\n",
       "13749  12864.740230  12932.889650  12856.690430  3.193400e+09\n",
       "12067  10141.769530  10159.849610  10132.500000  3.129500e+09\n",
       "\n",
       "[718 rows x 4 columns]"
      ]
     },
     "execution_count": 24,
     "metadata": {},
     "output_type": "execute_result"
    }
   ],
   "source": [
    "X_test\n"
   ]
  },
  {
   "cell_type": "code",
   "execution_count": 16,
   "id": "ef918e43",
   "metadata": {},
   "outputs": [
    {
     "data": {
      "text/html": [
       "<div>\n",
       "<style scoped>\n",
       "    .dataframe tbody tr th:only-of-type {\n",
       "        vertical-align: middle;\n",
       "    }\n",
       "\n",
       "    .dataframe tbody tr th {\n",
       "        vertical-align: top;\n",
       "    }\n",
       "\n",
       "    .dataframe thead th {\n",
       "        text-align: right;\n",
       "    }\n",
       "</style>\n",
       "<table border=\"1\" class=\"dataframe\">\n",
       "  <thead>\n",
       "    <tr style=\"text-align: right;\">\n",
       "      <th></th>\n",
       "      <th>Open</th>\n",
       "      <th>High</th>\n",
       "      <th>Low</th>\n",
       "      <th>Volume</th>\n",
       "    </tr>\n",
       "  </thead>\n",
       "  <tbody>\n",
       "    <tr>\n",
       "      <th>0</th>\n",
       "      <td>10141.76953</td>\n",
       "      <td>10873.66016</td>\n",
       "      <td>10132.5</td>\n",
       "      <td>407854000</td>\n",
       "    </tr>\n",
       "  </tbody>\n",
       "</table>\n",
       "</div>"
      ],
      "text/plain": [
       "          Open         High      Low     Volume\n",
       "0  10141.76953  10873.66016  10132.5  407854000"
      ]
     },
     "execution_count": 16,
     "metadata": {},
     "output_type": "execute_result"
    }
   ],
   "source": [
    "new=pd.DataFrame({\"Open\":[10141.769530],\"High\":[10873.660160],\"Low\":[10132.500000],\"Volume\":[407854000]})\n",
    "new"
   ]
  },
  {
   "cell_type": "markdown",
   "id": "632018f3",
   "metadata": {},
   "source": [
    "## Using random forest\n"
   ]
  },
  {
   "cell_type": "code",
   "execution_count": 30,
   "id": "c0d0f662",
   "metadata": {},
   "outputs": [],
   "source": [
    "model3=RandomForestRegressor(n_estimators=40,\n",
    "    max_depth=50,\n",
    "    min_samples_split=5,\n",
    "    min_samples_leaf=6,\n",
    "    max_features= 0.7)"
   ]
  },
  {
   "cell_type": "code",
   "execution_count": null,
   "id": "4508bbd6",
   "metadata": {},
   "outputs": [],
   "source": []
  },
  {
   "cell_type": "code",
   "execution_count": 31,
   "id": "dce449d6",
   "metadata": {},
   "outputs": [
    {
     "data": {
      "text/html": [
       "<style>#sk-container-id-1 {color: black;}#sk-container-id-1 pre{padding: 0;}#sk-container-id-1 div.sk-toggleable {background-color: white;}#sk-container-id-1 label.sk-toggleable__label {cursor: pointer;display: block;width: 100%;margin-bottom: 0;padding: 0.3em;box-sizing: border-box;text-align: center;}#sk-container-id-1 label.sk-toggleable__label-arrow:before {content: \"▸\";float: left;margin-right: 0.25em;color: #696969;}#sk-container-id-1 label.sk-toggleable__label-arrow:hover:before {color: black;}#sk-container-id-1 div.sk-estimator:hover label.sk-toggleable__label-arrow:before {color: black;}#sk-container-id-1 div.sk-toggleable__content {max-height: 0;max-width: 0;overflow: hidden;text-align: left;background-color: #f0f8ff;}#sk-container-id-1 div.sk-toggleable__content pre {margin: 0.2em;color: black;border-radius: 0.25em;background-color: #f0f8ff;}#sk-container-id-1 input.sk-toggleable__control:checked~div.sk-toggleable__content {max-height: 200px;max-width: 100%;overflow: auto;}#sk-container-id-1 input.sk-toggleable__control:checked~label.sk-toggleable__label-arrow:before {content: \"▾\";}#sk-container-id-1 div.sk-estimator input.sk-toggleable__control:checked~label.sk-toggleable__label {background-color: #d4ebff;}#sk-container-id-1 div.sk-label input.sk-toggleable__control:checked~label.sk-toggleable__label {background-color: #d4ebff;}#sk-container-id-1 input.sk-hidden--visually {border: 0;clip: rect(1px 1px 1px 1px);clip: rect(1px, 1px, 1px, 1px);height: 1px;margin: -1px;overflow: hidden;padding: 0;position: absolute;width: 1px;}#sk-container-id-1 div.sk-estimator {font-family: monospace;background-color: #f0f8ff;border: 1px dotted black;border-radius: 0.25em;box-sizing: border-box;margin-bottom: 0.5em;}#sk-container-id-1 div.sk-estimator:hover {background-color: #d4ebff;}#sk-container-id-1 div.sk-parallel-item::after {content: \"\";width: 100%;border-bottom: 1px solid gray;flex-grow: 1;}#sk-container-id-1 div.sk-label:hover label.sk-toggleable__label {background-color: #d4ebff;}#sk-container-id-1 div.sk-serial::before {content: \"\";position: absolute;border-left: 1px solid gray;box-sizing: border-box;top: 0;bottom: 0;left: 50%;z-index: 0;}#sk-container-id-1 div.sk-serial {display: flex;flex-direction: column;align-items: center;background-color: white;padding-right: 0.2em;padding-left: 0.2em;position: relative;}#sk-container-id-1 div.sk-item {position: relative;z-index: 1;}#sk-container-id-1 div.sk-parallel {display: flex;align-items: stretch;justify-content: center;background-color: white;position: relative;}#sk-container-id-1 div.sk-item::before, #sk-container-id-1 div.sk-parallel-item::before {content: \"\";position: absolute;border-left: 1px solid gray;box-sizing: border-box;top: 0;bottom: 0;left: 50%;z-index: -1;}#sk-container-id-1 div.sk-parallel-item {display: flex;flex-direction: column;z-index: 1;position: relative;background-color: white;}#sk-container-id-1 div.sk-parallel-item:first-child::after {align-self: flex-end;width: 50%;}#sk-container-id-1 div.sk-parallel-item:last-child::after {align-self: flex-start;width: 50%;}#sk-container-id-1 div.sk-parallel-item:only-child::after {width: 0;}#sk-container-id-1 div.sk-dashed-wrapped {border: 1px dashed gray;margin: 0 0.4em 0.5em 0.4em;box-sizing: border-box;padding-bottom: 0.4em;background-color: white;}#sk-container-id-1 div.sk-label label {font-family: monospace;font-weight: bold;display: inline-block;line-height: 1.2em;}#sk-container-id-1 div.sk-label-container {text-align: center;}#sk-container-id-1 div.sk-container {/* jupyter's `normalize.less` sets `[hidden] { display: none; }` but bootstrap.min.css set `[hidden] { display: none !important; }` so we also need the `!important` here to be able to override the default hidden behavior on the sphinx rendered scikit-learn.org. See: https://github.com/scikit-learn/scikit-learn/issues/21755 */display: inline-block !important;position: relative;}#sk-container-id-1 div.sk-text-repr-fallback {display: none;}</style><div id=\"sk-container-id-1\" class=\"sk-top-container\"><div class=\"sk-text-repr-fallback\"><pre>RandomForestRegressor(max_depth=50, max_features=0.7, min_samples_leaf=6,\n",
       "                      min_samples_split=5, n_estimators=40)</pre><b>In a Jupyter environment, please rerun this cell to show the HTML representation or trust the notebook. <br />On GitHub, the HTML representation is unable to render, please try loading this page with nbviewer.org.</b></div><div class=\"sk-container\" hidden><div class=\"sk-item\"><div class=\"sk-estimator sk-toggleable\"><input class=\"sk-toggleable__control sk-hidden--visually\" id=\"sk-estimator-id-1\" type=\"checkbox\" checked><label for=\"sk-estimator-id-1\" class=\"sk-toggleable__label sk-toggleable__label-arrow\">RandomForestRegressor</label><div class=\"sk-toggleable__content\"><pre>RandomForestRegressor(max_depth=50, max_features=0.7, min_samples_leaf=6,\n",
       "                      min_samples_split=5, n_estimators=40)</pre></div></div></div></div></div>"
      ],
      "text/plain": [
       "RandomForestRegressor(max_depth=50, max_features=0.7, min_samples_leaf=6,\n",
       "                      min_samples_split=5, n_estimators=40)"
      ]
     },
     "execution_count": 31,
     "metadata": {},
     "output_type": "execute_result"
    }
   ],
   "source": [
    "model3.fit(X_train,Y_train)"
   ]
  },
  {
   "cell_type": "code",
   "execution_count": 41,
   "id": "a3c46a39",
   "metadata": {},
   "outputs": [],
   "source": [
    "prediction=model3.predict(X_test)\n"
   ]
  },
  {
   "cell_type": "code",
   "execution_count": 42,
   "id": "efce2a73",
   "metadata": {},
   "outputs": [],
   "source": [
    "mae=mean_absolute_error(Y_test, prediction)\n",
    "mse = mean_squared_error(Y_test, prediction)\n",
    "r2=r2_score(Y_test,prediction)"
   ]
  },
  {
   "cell_type": "code",
   "execution_count": 43,
   "id": "ce2d986d",
   "metadata": {},
   "outputs": [
    {
     "name": "stdout",
     "output_type": "stream",
     "text": [
      "The mean absolute error of the model is 83.65029165985432\n",
      "The mean squared error of the model is 16558.81134141496\n",
      "The R squared of the model is 0.9966078625772924\n"
     ]
    }
   ],
   "source": [
    "print(f\"The mean absolute error of the model is {mae}\")\n",
    "print(f\"The mean squared error of the model is {mse}\")\n",
    "print(f\"The R squared of the model is {r2}\")"
   ]
  },
  {
   "cell_type": "code",
   "execution_count": null,
   "id": "f7133ef6",
   "metadata": {},
   "outputs": [],
   "source": [
    "527.210022 527.210022 527.210022 527.210022 527.210022"
   ]
  },
  {
   "cell_type": "code",
   "execution_count": null,
   "id": "3cac7076",
   "metadata": {},
   "outputs": [],
   "source": [
    " 527.840027 527.840027 527.840027 527.840027 527.840027"
   ]
  },
  {
   "cell_type": "code",
   "execution_count": 35,
   "id": "d9f8dd1e",
   "metadata": {},
   "outputs": [
    {
     "data": {
      "text/html": [
       "<div>\n",
       "<style scoped>\n",
       "    .dataframe tbody tr th:only-of-type {\n",
       "        vertical-align: middle;\n",
       "    }\n",
       "\n",
       "    .dataframe tbody tr th {\n",
       "        vertical-align: top;\n",
       "    }\n",
       "\n",
       "    .dataframe thead th {\n",
       "        text-align: right;\n",
       "    }\n",
       "</style>\n",
       "<table border=\"1\" class=\"dataframe\">\n",
       "  <thead>\n",
       "    <tr style=\"text-align: right;\">\n",
       "      <th></th>\n",
       "      <th>Open</th>\n",
       "      <th>High</th>\n",
       "      <th>Low</th>\n",
       "      <th>Volume</th>\n",
       "    </tr>\n",
       "  </thead>\n",
       "  <tbody>\n",
       "    <tr>\n",
       "      <th>1</th>\n",
       "      <td>1254.609985</td>\n",
       "      <td>1265.660034</td>\n",
       "      <td>1254.609985</td>\n",
       "      <td>155179900.0</td>\n",
       "    </tr>\n",
       "  </tbody>\n",
       "</table>\n",
       "</div>"
      ],
      "text/plain": [
       "          Open         High          Low       Volume\n",
       "1  1254.609985  1265.660034  1254.609985  155179900.0"
      ]
     },
     "execution_count": 35,
     "metadata": {},
     "output_type": "execute_result"
    }
   ],
   "source": [
    "new"
   ]
  },
  {
   "cell_type": "code",
   "execution_count": 25,
   "id": "c56514e9",
   "metadata": {},
   "outputs": [],
   "source": [
    "new.at[1,\"Volume\"]= 155179900.0\n"
   ]
  },
  {
   "cell_type": "code",
   "execution_count": 34,
   "id": "9134e0e1",
   "metadata": {},
   "outputs": [],
   "source": [
    "new.drop(new.index[0],inplace=True)"
   ]
  },
  {
   "cell_type": "code",
   "execution_count": 47,
   "id": "a3f5db13",
   "metadata": {},
   "outputs": [],
   "source": [
    "new2=pd.DataFrame({\"Open\":[1258.489990],\"High\":[1263.709961],\"Low\":[1258.239990],\"Volume\":[407854000]})\n",
    "1258.489990 1263.709961 1258.239990 1263.619995 1263.619995 148465000.0\n",
    "1254.609985 1265.660034 1254.609985 1258.579956 1258.579956 155179900.0"
   ]
  },
  {
   "cell_type": "code",
   "execution_count": 29,
   "id": "f1731e43",
   "metadata": {},
   "outputs": [
    {
     "ename": "NameError",
     "evalue": "name 'model3' is not defined",
     "output_type": "error",
     "traceback": [
      "\u001b[0;31m---------------------------------------------------------------------------\u001b[0m",
      "\u001b[0;31mNameError\u001b[0m                                 Traceback (most recent call last)",
      "\u001b[0;32m/var/folders/dp/jzw9_p792p12jh67s1z26q200000gn/T/ipykernel_10854/3556964594.py\u001b[0m in \u001b[0;36m<module>\u001b[0;34m\u001b[0m\n\u001b[0;32m----> 1\u001b[0;31m \u001b[0mpredict\u001b[0m\u001b[0;34m=\u001b[0m\u001b[0mmodel3\u001b[0m\u001b[0;34m.\u001b[0m\u001b[0mpredict\u001b[0m\u001b[0;34m(\u001b[0m\u001b[0mnew\u001b[0m\u001b[0;34m)\u001b[0m\u001b[0;34m\u001b[0m\u001b[0;34m\u001b[0m\u001b[0m\n\u001b[0m",
      "\u001b[0;31mNameError\u001b[0m: name 'model3' is not defined"
     ]
    }
   ],
   "source": [
    "predict=model3.predict(new)"
   ]
  },
  {
   "cell_type": "code",
   "execution_count": 38,
   "id": "3bbaa2a6",
   "metadata": {},
   "outputs": [],
   "source": [
    "new_test=pd.DataFrame({\"Close\":[1258.579956]})"
   ]
  },
  {
   "cell_type": "code",
   "execution_count": 39,
   "id": "9ffd701c",
   "metadata": {},
   "outputs": [
    {
     "data": {
      "text/html": [
       "<div>\n",
       "<style scoped>\n",
       "    .dataframe tbody tr th:only-of-type {\n",
       "        vertical-align: middle;\n",
       "    }\n",
       "\n",
       "    .dataframe tbody tr th {\n",
       "        vertical-align: top;\n",
       "    }\n",
       "\n",
       "    .dataframe thead th {\n",
       "        text-align: right;\n",
       "    }\n",
       "</style>\n",
       "<table border=\"1\" class=\"dataframe\">\n",
       "  <thead>\n",
       "    <tr style=\"text-align: right;\">\n",
       "      <th></th>\n",
       "      <th>Close</th>\n",
       "    </tr>\n",
       "  </thead>\n",
       "  <tbody>\n",
       "    <tr>\n",
       "      <th>0</th>\n",
       "      <td>1258.579956</td>\n",
       "    </tr>\n",
       "  </tbody>\n",
       "</table>\n",
       "</div>"
      ],
      "text/plain": [
       "         Close\n",
       "0  1258.579956"
      ]
     },
     "execution_count": 39,
     "metadata": {},
     "output_type": "execute_result"
    }
   ],
   "source": [
    "new_test"
   ]
  },
  {
   "cell_type": "code",
   "execution_count": 44,
   "id": "8e86fd4d",
   "metadata": {},
   "outputs": [],
   "source": [
    "pred=model3.predict(new)"
   ]
  },
  {
   "cell_type": "code",
   "execution_count": 47,
   "id": "d04e7c52",
   "metadata": {},
   "outputs": [
    {
     "name": "stderr",
     "output_type": "stream",
     "text": [
      "/Users/devbirchandthakuri/opt/anaconda3/lib/python3.9/site-packages/sklearn/metrics/_regression.py:996: UndefinedMetricWarning: R^2 score is not well-defined with less than two samples.\n",
      "  warnings.warn(msg, UndefinedMetricWarning)\n"
     ]
    }
   ],
   "source": [
    "mae=mean_absolute_error(new_test, pred)\n",
    "mse = mean_squared_error(new_test, pred)\n",
    "r2=r2_score(new_test,pred)"
   ]
  },
  {
   "cell_type": "code",
   "execution_count": 48,
   "id": "270113cd",
   "metadata": {},
   "outputs": [
    {
     "data": {
      "text/plain": [
       "(5403.263878323676, 29195260.538797416, nan)"
      ]
     },
     "execution_count": 48,
     "metadata": {},
     "output_type": "execute_result"
    }
   ],
   "source": [
    "mae,mse,r2"
   ]
  },
  {
   "cell_type": "code",
   "execution_count": null,
   "id": "68ebe5d2",
   "metadata": {},
   "outputs": [],
   "source": []
  }
 ],
 "metadata": {
  "kernelspec": {
   "display_name": "Python 3 (ipykernel)",
   "language": "python",
   "name": "python3"
  },
  "language_info": {
   "codemirror_mode": {
    "name": "ipython",
    "version": 3
   },
   "file_extension": ".py",
   "mimetype": "text/x-python",
   "name": "python",
   "nbconvert_exporter": "python",
   "pygments_lexer": "ipython3",
   "version": "3.9.13"
  }
 },
 "nbformat": 4,
 "nbformat_minor": 5
}
